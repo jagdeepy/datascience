{
 "cells": [
  {
   "cell_type": "markdown",
   "metadata": {},
   "source": [
    "Q.1 Create a numpy array starting from 2 till 50 with a stepsize of 3."
   ]
  },
  {
   "cell_type": "code",
   "execution_count": 1,
   "metadata": {},
   "outputs": [
    {
     "name": "stdout",
     "output_type": "stream",
     "text": [
      "Output\r",
      " [ 2  5  8 11 14 17 20 23 26 29 32 35 38 41 44 47] \n",
      "\n"
     ]
    }
   ],
   "source": [
    "import numpy as np\n",
    "print(\"Output\\r\",np.arange(2,50,3),\"\\n\")"
   ]
  },
  {
   "cell_type": "markdown",
   "metadata": {},
   "source": [
    "Q.2 Accept two lists of 5 elements each from the user.\n",
    "Convert them to numpy arrays. Concatenate these arrays and print it. Also sort these arrays and print it."
   ]
  },
  {
   "cell_type": "code",
   "execution_count": 7,
   "metadata": {},
   "outputs": [
    {
     "name": "stdout",
     "output_type": "stream",
     "text": [
      "Enter 5 number of elements list 1 : 5\n",
      "1\n",
      "2\n",
      "3\n",
      "4\n",
      "5\n",
      "List 1 [1, 2, 3, 4, 5] Enter 5 number of elements List 2: 5\n",
      "6\n",
      "7\n",
      "8\n",
      "9\n",
      "10\n",
      "List 2 [6, 7, 8, 9, 10] Array 1st:  [1 2 3 4 5]\n",
      "Array 2nd:  [ 6  7  8  9 10]\n"
     ]
    }
   ],
   "source": [
    "lst = [] \n",
    "lst1= []\n",
    "n = int(input(\"Enter 5 number of elements list 1 : \")) \n",
    "  \n",
    "# iterating till the range \n",
    "for i in range(0, n): \n",
    "    ele = int(input())  \n",
    "    lst.append(ele) \n",
    "print(\"List 1\",lst, end=\" \") \n",
    "\n",
    "k = int(input(\"Enter 5 number of elements List 2: \")) \n",
    "  \n",
    "# iterating till the range \n",
    "for i in range(0, k): \n",
    "    ele1 = int(input())  \n",
    "    lst1.append(ele1) \n",
    "print(\"List 2\",lst1, end=\" \") \n",
    "# converting list to array\n",
    "arr = np.array(lst)\n",
    "arr1 = np.array(lst1)  \n",
    "# displaying array\n",
    "print (\"Array 1st: \", arr)\n",
    "print (\"Array 2nd: \", arr1)"
   ]
  },
  {
   "cell_type": "code",
   "execution_count": 18,
   "metadata": {},
   "outputs": [
    {
     "name": "stdout",
     "output_type": "stream",
     "text": [
      "[ 1  2  3  4  5  6  7  8  9 10  6  7  8  9 10  6  7  8  9 10  6  7  8  9\n",
      " 10  6  7  8  9 10]\n"
     ]
    }
   ],
   "source": [
    "arr = np.concatenate((arr,arr1))\n",
    "print(arr)\n"
   ]
  },
  {
   "cell_type": "code",
   "execution_count": 19,
   "metadata": {},
   "outputs": [
    {
     "name": "stdout",
     "output_type": "stream",
     "text": [
      "[ 1  2  3  4  5  6  6  6  6  6  7  7  7  7  7  8  8  8  8  8  9  9  9  9\n",
      "  9 10 10 10 10 10]\n"
     ]
    }
   ],
   "source": [
    "print(np.sort(arr))"
   ]
  },
  {
   "cell_type": "markdown",
   "metadata": {},
   "source": [
    "Q.3 Write a code snippet to find the dimensions of a ndarray and its size."
   ]
  },
  {
   "cell_type": "code",
   "execution_count": 24,
   "metadata": {},
   "outputs": [
    {
     "name": "stdout",
     "output_type": "stream",
     "text": [
      "<class 'numpy.ndarray'>\n",
      "Shape:  (2, 3)\n",
      "Size: 6\n"
     ]
    }
   ],
   "source": [
    "x = np.array([[1, 2, 3], [4, 5, 6]], np.int32)\n",
    "print(type(x))\n",
    "print(\"Shape: \",x.shape)\n",
    "print(\"Size:\",x.size)"
   ]
  },
  {
   "cell_type": "markdown",
   "metadata": {},
   "source": [
    "Q.4 How to convert a 1D array into a 2D array? Demonstrate with the help of a code snippet\n",
    "Hint: np.newaxis, np.expand_dims"
   ]
  },
  {
   "cell_type": "code",
   "execution_count": 25,
   "metadata": {},
   "outputs": [
    {
     "name": "stdout",
     "output_type": "stream",
     "text": [
      "[[0 1 2 3 4]\n",
      " [5 6 7 8 9]]\n"
     ]
    }
   ],
   "source": [
    "arr_1d = np.array([0, 1, 2, 3, 4, 5, 6, 7, 8, 9])\n",
    "# Convert 1D array to a 2D numpy array of 2 rows and 3 columns\n",
    "arr_2d = np.reshape(arr_1d, (2, 5))\n",
    "print(arr_2d)"
   ]
  },
  {
   "cell_type": "markdown",
   "metadata": {},
   "source": [
    "Q.5 Consider two square numpy arrays. Stack them vertically and horizontally.\n",
    "Hint: Use vstack(), hstack()"
   ]
  },
  {
   "cell_type": "code",
   "execution_count": 27,
   "metadata": {},
   "outputs": [
    {
     "name": "stdout",
     "output_type": "stream",
     "text": [
      "Horizontal Stack: [1 2 3 4 5 6]\n",
      "Vertical Stack: [[1 2 3]\n",
      " [4 5 6]]\n"
     ]
    }
   ],
   "source": [
    "## Horitzontal Stack\n",
    "import numpy as np\n",
    "f = np.array([1,2,3])\n",
    "g = np.array([4,5,6])\n",
    "\n",
    "print('Horizontal Stack:', np.hstack((f, g)))\n",
    "\n",
    "## Vertical Stack\n",
    "import numpy as np\n",
    "f = np.array([1,2,3])\n",
    "g = np.array([4,5,6])\n",
    "\n",
    "print('Vertical Stack:', np.vstack((f, g)))"
   ]
  },
  {
   "cell_type": "markdown",
   "metadata": {},
   "source": [
    "Q.6 How to get unique items and counts of unique items?"
   ]
  },
  {
   "cell_type": "code",
   "execution_count": 30,
   "metadata": {},
   "outputs": [
    {
     "name": "stdout",
     "output_type": "stream",
     "text": [
      "Unique Items: {1, 2, 3, 4, 5, 6, 7, 8}\n",
      "Unique Count:  8\n"
     ]
    }
   ],
   "source": [
    "a_list = [1, 1, 2, 2, 3,4,5,5,5,6,7,7,8]\n",
    "\n",
    "a_set = set(a_list)\n",
    "\n",
    "number_of_unique_values = len(a_set)\n",
    "print(\"Unique Items:\",a_set)\n",
    "print(\"Unique Count: \",number_of_unique_values)"
   ]
  }
 ],
 "metadata": {
  "kernelspec": {
   "display_name": "Python 3",
   "language": "python",
   "name": "python3"
  },
  "language_info": {
   "codemirror_mode": {
    "name": "ipython",
    "version": 3
   },
   "file_extension": ".py",
   "mimetype": "text/x-python",
   "name": "python",
   "nbconvert_exporter": "python",
   "pygments_lexer": "ipython3",
   "version": "3.7.6"
  }
 },
 "nbformat": 4,
 "nbformat_minor": 4
}
