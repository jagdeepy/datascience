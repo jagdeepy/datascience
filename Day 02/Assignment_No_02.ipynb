{
 "cells": [
  {
   "cell_type": "markdown",
   "metadata": {},
   "source": [
    "Q.1 Create an empty list. Accept 10 numbers from the user and append to it the list if it is an even number."
   ]
  },
  {
   "cell_type": "code",
   "execution_count": 9,
   "metadata": {},
   "outputs": [
    {
     "name": "stdout",
     "output_type": "stream",
     "text": [
      "Enter 10 number of elements : 10\n",
      "1\n",
      "2\n",
      "3\n",
      "4\n",
      "5\n",
      "6\n",
      "7\n",
      "8\n",
      "9\n",
      "0\n",
      "Even numbers: [2, 4, 6, 8, 0] "
     ]
    }
   ],
   "source": [
    "lst = [] \n",
    "  \n",
    "# number of elemetns as user input \n",
    "n = int(input(\"Enter 10 number of elements : \")) \n",
    "  \n",
    "# iterating till the range \n",
    "for i in range(0, n): \n",
    "    ele = int(input()) \n",
    "    if ele % 2 == 0:\n",
    "        lst.append(ele) # adding the element \n",
    "print(\"Even numbers:\",lst, end=\" \") "
   ]
  },
  {
   "cell_type": "markdown",
   "metadata": {},
   "source": [
    "Q.2 Create a notebook on LIST COMPREHENSION. This exercise is to put you in a Self learning mode"
   ]
  },
  {
   "cell_type": "markdown",
   "metadata": {},
   "source": [
    "__Comprehension__"
   ]
  },
  {
   "cell_type": "markdown",
   "metadata": {},
   "source": [
    "\n",
    "    List Comprehensions\n",
    "    Dictionary Comprehensions\n",
    "    Set Comprehensions\n",
    "    Generator Comprehensions\n"
   ]
  },
  {
   "cell_type": "markdown",
   "metadata": {},
   "source": [
    "__LIST COMPREHENSION__"
   ]
  },
  {
   "cell_type": "code",
   "execution_count": 2,
   "metadata": {},
   "outputs": [
    {
     "name": "stdout",
     "output_type": "stream",
     "text": [
      "List using for loop: [1, 4, 9, 16, 25, 36, 49, 64, 81]\n"
     ]
    }
   ],
   "source": [
    "list1 = [] \n",
    "for var in range(1, 10): \n",
    "    list1.append(var ** 2) \n",
    "      \n",
    "print(\"List using for loop:\", list1) \n"
   ]
  },
  {
   "cell_type": "code",
   "execution_count": 6,
   "metadata": {},
   "outputs": [
    {
     "name": "stdout",
     "output_type": "stream",
     "text": [
      "Count: 1\n",
      "Count: 2\n",
      "Count: 0\n"
     ]
    }
   ],
   "source": [
    "listFruits = ['orange', 'apple', 'pear', 'banana', 'kiwi', 'apple', 'banana']\n",
    "a=listFruits.count('kiwi')\n",
    "b=listFruits.count('apple')\n",
    "c=listFruits.count('pineapple')\n",
    "print(\"Count:\",a)\n",
    "print(\"Count:\",b)\n",
    "print(\"Count:\",c)"
   ]
  },
  {
   "cell_type": "code",
   "execution_count": 8,
   "metadata": {},
   "outputs": [
    {
     "data": {
      "text/plain": [
       "3"
      ]
     },
     "execution_count": 8,
     "metadata": {},
     "output_type": "execute_result"
    }
   ],
   "source": [
    "listFruits.index('banana')"
   ]
  },
  {
   "cell_type": "code",
   "execution_count": 9,
   "metadata": {},
   "outputs": [
    {
     "data": {
      "text/plain": [
       "1"
      ]
     },
     "execution_count": 9,
     "metadata": {},
     "output_type": "execute_result"
    }
   ],
   "source": [
    "listFruits.index('apple')"
   ]
  },
  {
   "cell_type": "code",
   "execution_count": 10,
   "metadata": {},
   "outputs": [
    {
     "data": {
      "text/plain": [
       "6"
      ]
     },
     "execution_count": 10,
     "metadata": {},
     "output_type": "execute_result"
    }
   ],
   "source": [
    "listFruits.index('banana', 4) "
   ]
  },
  {
   "cell_type": "code",
   "execution_count": 11,
   "metadata": {},
   "outputs": [
    {
     "data": {
      "text/plain": [
       "['banana', 'apple', 'kiwi', 'banana', 'pear', 'apple', 'orange']"
      ]
     },
     "execution_count": 11,
     "metadata": {},
     "output_type": "execute_result"
    }
   ],
   "source": [
    "listFruits.reverse()\n",
    "listFruits"
   ]
  },
  {
   "cell_type": "code",
   "execution_count": 13,
   "metadata": {},
   "outputs": [
    {
     "data": {
      "text/plain": [
       "['banana',\n",
       " 'apple',\n",
       " 'kiwi',\n",
       " 'banana',\n",
       " 'pear',\n",
       " 'apple',\n",
       " 'orange',\n",
       " 'mango',\n",
       " 'mango']"
      ]
     },
     "execution_count": 13,
     "metadata": {},
     "output_type": "execute_result"
    }
   ],
   "source": [
    "listFruits.append('mango')\n",
    "listFruits"
   ]
  },
  {
   "cell_type": "code",
   "execution_count": 14,
   "metadata": {},
   "outputs": [
    {
     "data": {
      "text/plain": [
       "['apple',\n",
       " 'apple',\n",
       " 'banana',\n",
       " 'banana',\n",
       " 'kiwi',\n",
       " 'mango',\n",
       " 'mango',\n",
       " 'orange',\n",
       " 'pear']"
      ]
     },
     "execution_count": 14,
     "metadata": {},
     "output_type": "execute_result"
    }
   ],
   "source": [
    "listFruits.sort()\n",
    "listFruits"
   ]
  },
  {
   "cell_type": "code",
   "execution_count": 15,
   "metadata": {},
   "outputs": [
    {
     "data": {
      "text/plain": [
       "['apple',\n",
       " 'apple',\n",
       " 'banana',\n",
       " 'banana',\n",
       " 'kiwi',\n",
       " 'mango',\n",
       " 'mango',\n",
       " 'orange',\n",
       " 'pear',\n",
       " 'grapes']"
      ]
     },
     "execution_count": 15,
     "metadata": {},
     "output_type": "execute_result"
    }
   ],
   "source": [
    "listFruits.append('grapes')\n",
    "listFruits"
   ]
  },
  {
   "cell_type": "code",
   "execution_count": 16,
   "metadata": {},
   "outputs": [
    {
     "data": {
      "text/plain": [
       "['apple',\n",
       " 'apple',\n",
       " 'banana',\n",
       " 'banana',\n",
       " 'kiwi',\n",
       " 'mango',\n",
       " 'mango',\n",
       " 'orange',\n",
       " 'pear']"
      ]
     },
     "execution_count": 16,
     "metadata": {},
     "output_type": "execute_result"
    }
   ],
   "source": [
    "listFruits.pop()\n",
    "listFruits"
   ]
  },
  {
   "cell_type": "markdown",
   "metadata": {},
   "source": [
    "Q.3 You have seen in the videos how powerful dictionary data structure is.In this assignment, given a number n, you have to write a program that generates a dictionary d whichcontains (i, i*i), where i is from 1 to n (both included).Then you have to just print this dictionary d.Example:Input: 4will give output as{1: 1, 2: 4, 3: 9, 4: 16}Input Format:Take the number n in a single line.Output Format:Print the dictionary d in a single line.\n",
    "Example:Input:8Output:{1: 1, 2: 4, 3: 9, 4: 16, 5: 25, 6: 36, 7: 49, 8: 64}"
   ]
  },
  {
   "cell_type": "code",
   "execution_count": 27,
   "metadata": {},
   "outputs": [
    {
     "name": "stdout",
     "output_type": "stream",
     "text": [
      "Enter the number with spaces:12\n",
      "{1: 1, 2: 4, 3: 9, 4: 16, 5: 25, 6: 36, 7: 49, 8: 64, 9: 81, 10: 100, 11: 121, 12: 144}\n"
     ]
    }
   ],
   "source": [
    "n=int(input(\"Enter the number:\"))\n",
    "d=dict()\n",
    "for i in range(1,n+1):\n",
    "    d[i]= i*i\n",
    "print(d)"
   ]
  },
  {
   "cell_type": "markdown",
   "metadata": {},
   "source": [
    "Q.3 There is a robot which wants to go the charging point to charge itself.The robot moves in a 2-D plane from the original point (0,0). The robot canmove toward UP, DOWN, LEFT and RIGHT with given steps.The trace of robot movement is shown as the following:UP 5DOWN 3LEFT 3RIGHT 2Then, the output of the program should be:2The numbers after the direction are steps.Write a program to compute the distance between the current position aftera sequence of movement and original point. If the distance is a float, thenjust print the nearest integer (use round() function for that and then convertit into an integer).Input Format:The first line of the input contains a number n which implies the number ofdirections to be given.The next n lines contain the direction and the step separated by a space.Output Format:Print the distance from the original position to the current position.Example:Input:4UP 5DOWN 3LEFT 3RIGHT 2Output:2"
   ]
  },
  {
   "cell_type": "code",
   "execution_count": null,
   "metadata": {},
   "outputs": [
    {
     "name": "stdout",
     "output_type": "stream",
     "text": [
      "Type in UP/DOWN/LEFT/RIGHT #step number: 4\n",
      "Type in UP/DOWN/LEFT/RIGHT #step number: 3\n"
     ]
    }
   ],
   "source": [
    "\n",
    "x, y = 0, 0\n",
    "\n",
    "while True:\n",
    "    step = input(\"Type in UP/DOWN/LEFT/RIGHT #step number: \")\n",
    "\n",
    "    if step == \"\":\n",
    "        break\n",
    "\n",
    "    else:\n",
    "        step = step.split(\" \")\n",
    "\n",
    "        if step[0] == \"UP\":\n",
    "            y = y + int(step[1])\n",
    "        elif step[0] == \"DOWN\":\n",
    "            y = y - int(step[1])\n",
    "        elif step[0] == \"LEFT\":\n",
    "            x = x - int(step[1])\n",
    "        elif step[0] == \"RIGHT\":\n",
    "            x = x + int(step[1])\n",
    "\n",
    "c = math.sqrt(x**2 + y**2)\n",
    "\n",
    "print(\"Distance:\", c)"
   ]
  }
 ],
 "metadata": {
  "kernelspec": {
   "display_name": "Python 3",
   "language": "python",
   "name": "python3"
  },
  "language_info": {
   "codemirror_mode": {
    "name": "ipython",
    "version": 3
   },
   "file_extension": ".py",
   "mimetype": "text/x-python",
   "name": "python",
   "nbconvert_exporter": "python",
   "pygments_lexer": "ipython3",
   "version": "3.7.6"
  }
 },
 "nbformat": 4,
 "nbformat_minor": 4
}
